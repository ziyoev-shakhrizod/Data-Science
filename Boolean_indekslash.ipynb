{
  "nbformat": 4,
  "nbformat_minor": 0,
  "metadata": {
    "colab": {
      "provenance": [],
      "authorship_tag": "ABX9TyPE9an9+IDZBB9M+DLfWBTO",
      "include_colab_link": true
    },
    "kernelspec": {
      "name": "python3",
      "display_name": "Python 3"
    },
    "language_info": {
      "name": "python"
    }
  },
  "cells": [
    {
      "cell_type": "markdown",
      "metadata": {
        "id": "view-in-github",
        "colab_type": "text"
      },
      "source": [
        "<a href=\"https://colab.research.google.com/github/ziyoev-shakhrizod/Data-Science/blob/main/Boolean_indekslash.ipynb\" target=\"_parent\"><img src=\"https://colab.research.google.com/assets/colab-badge.svg\" alt=\"Open In Colab\"/></a>"
      ]
    },
    {
      "cell_type": "code",
      "execution_count": 2,
      "metadata": {
        "id": "XfR42upSLM_7"
      },
      "outputs": [],
      "source": [
        "import numpy as np"
      ]
    },
    {
      "cell_type": "markdown",
      "source": [],
      "metadata": {
        "id": "J65ZRVVTLlCW"
      }
    },
    {
      "cell_type": "code",
      "source": [
        "names = np.array(['Hasan', 'Husan', 'Ilhom', 'Shaxrizod', 'Shaxriyor', 'Hasan', 'Shaxrizod'])\n",
        "data = np.random.randn(7,4)"
      ],
      "metadata": {
        "id": "YfCT17yRLldC"
      },
      "execution_count": 12,
      "outputs": []
    },
    {
      "cell_type": "code",
      "source": [
        "names"
      ],
      "metadata": {
        "colab": {
          "base_uri": "https://localhost:8080/"
        },
        "id": "hWVbCQwXMF3_",
        "outputId": "705a24dc-33c9-4b9e-b38a-a499c1b670e8"
      },
      "execution_count": 5,
      "outputs": [
        {
          "output_type": "execute_result",
          "data": {
            "text/plain": [
              "['Hasan', 'Husan', 'Ilhom', 'Shaxrizod', 'Shaxriyor', 'Hasan', 'Shaxrizod']"
            ]
          },
          "metadata": {},
          "execution_count": 5
        }
      ]
    },
    {
      "cell_type": "code",
      "source": [
        "data"
      ],
      "metadata": {
        "colab": {
          "base_uri": "https://localhost:8080/"
        },
        "id": "ZMHQNrs5MIAY",
        "outputId": "5bd93a45-686e-42b6-f5a7-3b1f5de3c897"
      },
      "execution_count": 9,
      "outputs": [
        {
          "output_type": "execute_result",
          "data": {
            "text/plain": [
              "array([[-0.18776685, -1.34606051, -1.03560365,  0.45496894],\n",
              "       [-0.13102578,  1.49247453,  1.01252293,  0.06105919],\n",
              "       [-1.0182983 , -0.76000534,  1.044598  , -1.52041803],\n",
              "       [-0.05029291, -0.07924336,  0.28836567, -0.69256187],\n",
              "       [-1.00200672, -0.11181247, -0.38596752,  0.79360007],\n",
              "       [ 1.03482281, -0.08211784, -1.03290539, -2.23615388],\n",
              "       [ 0.7098099 ,  0.40438024,  0.67160164, -1.00572395]])"
            ]
          },
          "metadata": {},
          "execution_count": 9
        }
      ]
    },
    {
      "cell_type": "code",
      "source": [
        "data[data<0] = 0\n",
        "data"
      ],
      "metadata": {
        "colab": {
          "base_uri": "https://localhost:8080/"
        },
        "id": "0zJCwV60MJJY",
        "outputId": "71b5ea34-6cf7-4161-e926-e69fb4753c62"
      },
      "execution_count": 19,
      "outputs": [
        {
          "output_type": "execute_result",
          "data": {
            "text/plain": [
              "array([[0.        , 0.74365954, 1.59752709, 0.        ],\n",
              "       [0.1128052 , 0.        , 0.34096379, 0.        ],\n",
              "       [1.09407783, 0.        , 0.        , 0.        ],\n",
              "       [0.84729396, 0.        , 0.67094637, 0.        ],\n",
              "       [0.        , 2.56753396, 0.        , 1.61590299],\n",
              "       [0.01099255, 1.86252015, 0.        , 0.        ],\n",
              "       [0.        , 0.        , 0.18213063, 0.        ]])"
            ]
          },
          "metadata": {},
          "execution_count": 19
        }
      ]
    },
    {
      "cell_type": "code",
      "source": [
        "data[names == \"Shaxrizod\"]"
      ],
      "metadata": {
        "colab": {
          "base_uri": "https://localhost:8080/"
        },
        "id": "RuoKRUYlPMzZ",
        "outputId": "b9700757-2f02-4ad7-a958-7895cda1283c"
      },
      "execution_count": 30,
      "outputs": [
        {
          "output_type": "execute_result",
          "data": {
            "text/plain": [
              "array([[0.84729396, 0.        , 0.67094637, 0.        ],\n",
              "       [0.        , 0.        , 0.18213063, 0.        ]])"
            ]
          },
          "metadata": {},
          "execution_count": 30
        }
      ]
    },
    {
      "cell_type": "code",
      "source": [
        "names == 'Shaxrizod'"
      ],
      "metadata": {
        "colab": {
          "base_uri": "https://localhost:8080/"
        },
        "id": "RbuvjxM3PDF0",
        "outputId": "b4967648-fc3f-4094-b6d5-ad3bb764a22e"
      },
      "execution_count": 29,
      "outputs": [
        {
          "output_type": "execute_result",
          "data": {
            "text/plain": [
              "array([False, False, False,  True, False, False,  True])"
            ]
          },
          "metadata": {},
          "execution_count": 29
        }
      ]
    },
    {
      "cell_type": "code",
      "source": [
        "data[names != 'Shaxrizod]']"
      ],
      "metadata": {
        "colab": {
          "base_uri": "https://localhost:8080/"
        },
        "id": "iEUAJS5cPcWI",
        "outputId": "41b7f7b8-bafc-4583-a93e-4c12961e8b2f"
      },
      "execution_count": 31,
      "outputs": [
        {
          "output_type": "execute_result",
          "data": {
            "text/plain": [
              "array([[0.        , 0.74365954, 1.59752709, 0.        ],\n",
              "       [0.1128052 , 0.        , 0.34096379, 0.        ],\n",
              "       [1.09407783, 0.        , 0.        , 0.        ],\n",
              "       [0.84729396, 0.        , 0.67094637, 0.        ],\n",
              "       [0.        , 2.56753396, 0.        , 1.61590299],\n",
              "       [0.01099255, 1.86252015, 0.        , 0.        ],\n",
              "       [0.        , 0.        , 0.18213063, 0.        ]])"
            ]
          },
          "metadata": {},
          "execution_count": 31
        }
      ]
    },
    {
      "cell_type": "code",
      "source": [
        "#teng emasni yana bitta yo'li bor\n",
        "data[~(names == \"Shaxrizod\")]"
      ],
      "metadata": {
        "colab": {
          "base_uri": "https://localhost:8080/"
        },
        "id": "2_p34Qn4Ph-u",
        "outputId": "6e0145c9-06b5-4140-db42-5f0e005f42bc"
      },
      "execution_count": 32,
      "outputs": [
        {
          "output_type": "execute_result",
          "data": {
            "text/plain": [
              "array([[0.        , 0.74365954, 1.59752709, 0.        ],\n",
              "       [0.1128052 , 0.        , 0.34096379, 0.        ],\n",
              "       [1.09407783, 0.        , 0.        , 0.        ],\n",
              "       [0.        , 2.56753396, 0.        , 1.61590299],\n",
              "       [0.01099255, 1.86252015, 0.        , 0.        ]])"
            ]
          },
          "metadata": {},
          "execution_count": 32
        }
      ]
    },
    {
      "cell_type": "code",
      "source": [
        "#Birdaniga 2 yoki undan ko'p ma'lumot bilan ishlash uchun\n",
        "mask = (names == 'Shaxrizod') | (names == 'Hasan')"
      ],
      "metadata": {
        "id": "sOURVM2BMkVD"
      },
      "execution_count": 33,
      "outputs": []
    },
    {
      "cell_type": "code",
      "source": [
        "data[mask]"
      ],
      "metadata": {
        "colab": {
          "base_uri": "https://localhost:8080/"
        },
        "id": "1VCuA9oSMv_b",
        "outputId": "ebe5b22a-f0e1-4e91-efb5-b0834ff83415"
      },
      "execution_count": 18,
      "outputs": [
        {
          "output_type": "execute_result",
          "data": {
            "text/plain": [
              "array([[-0.40506609,  0.74365954,  1.59752709, -0.81888463],\n",
              "       [ 0.84729396, -0.13280368,  0.67094637, -2.69617533],\n",
              "       [ 0.01099255,  1.86252015, -0.07009828, -1.04148025],\n",
              "       [-1.0131615 , -0.2167205 ,  0.18213063, -0.61668181]])"
            ]
          },
          "metadata": {},
          "execution_count": 18
        }
      ]
    },
    {
      "cell_type": "code",
      "source": [
        "data[names == 'Hasan', 2:]"
      ],
      "metadata": {
        "colab": {
          "base_uri": "https://localhost:8080/"
        },
        "id": "o0F7F973NZzm",
        "outputId": "7d854348-9c45-4515-f81e-dda9ebb18fc6"
      },
      "execution_count": 28,
      "outputs": [
        {
          "output_type": "execute_result",
          "data": {
            "text/plain": [
              "array([[1.59752709, 0.        ],\n",
              "       [0.        , 0.        ]])"
            ]
          },
          "metadata": {},
          "execution_count": 28
        }
      ]
    },
    {
      "cell_type": "code",
      "source": [
        "data[names == 'Hasan']\n"
      ],
      "metadata": {
        "colab": {
          "base_uri": "https://localhost:8080/"
        },
        "id": "rfBKPsuyN1Gr",
        "outputId": "0a51265a-78b7-4a91-9963-ac0de80fa082"
      },
      "execution_count": 26,
      "outputs": [
        {
          "output_type": "execute_result",
          "data": {
            "text/plain": [
              "array([[0.        , 0.74365954, 1.59752709, 0.        ],\n",
              "       [0.01099255, 1.86252015, 0.        , 0.        ]])"
            ]
          },
          "metadata": {},
          "execution_count": 26
        }
      ]
    },
    {
      "cell_type": "code",
      "source": [],
      "metadata": {
        "id": "pZ12vLnmN58w"
      },
      "execution_count": null,
      "outputs": []
    }
  ]
}